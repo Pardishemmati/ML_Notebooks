{
 "cells": [
  {
   "cell_type": "markdown",
   "id": "7f5f8586",
   "metadata": {},
   "source": [
    "# Breast Cancer Classification using SVM\n",
    "This notebook demonstrates a simple machine learning model (SVM) applied to the Breast Cancer dataset from sklearn."
   ]
  },
  {
   "cell_type": "code",
   "execution_count": null,
   "id": "a512b28c",
   "metadata": {},
   "outputs": [],
   "source": [
    "from sklearn.datasets import load_breast_cancer\n",
    "from sklearn.model_selection import train_test_split\n",
    "from sklearn.preprocessing import StandardScaler\n",
    "from sklearn.svm import SVC\n",
    "from sklearn.metrics import classification_report\n",
    "import pandas as pd"
   ]
  },
  {
   "cell_type": "code",
   "execution_count": null,
   "id": "23d94791",
   "metadata": {},
   "outputs": [],
   "source": [
    "# Load dataset\n",
    "data = load_breast_cancer()\n",
    "X = data.data\n",
    "y = data.target\n",
    "\n",
    "# Show basic info\n",
    "print(\"Features shape:\", X.shape)\n",
    "print(\"Target names:\", data.target_names)"
   ]
  },
  {
   "cell_type": "code",
   "execution_count": null,
   "id": "f25e38e6",
   "metadata": {},
   "outputs": [],
   "source": [
    "# Train-test split\n",
    "X_train, X_test, y_train, y_test = train_test_split(X, y, test_size=0.2, random_state=42)"
   ]
  },
  {
   "cell_type": "code",
   "execution_count": null,
   "id": "a13c4158",
   "metadata": {},
   "outputs": [],
   "source": [
    "# Scale features\n",
    "scaler = StandardScaler()\n",
    "X_train_scaled = scaler.fit_transform(X_train)\n",
    "X_test_scaled = scaler.transform(X_test)"
   ]
  },
  {
   "cell_type": "code",
   "execution_count": null,
   "id": "a733c805",
   "metadata": {},
   "outputs": [],
   "source": [
    "# Train SVM model\n",
    "svm = SVC(kernel='linear', random_state=42)\n",
    "svm.fit(X_train_scaled, y_train)"
   ]
  },
  {
   "cell_type": "code",
   "execution_count": null,
   "id": "482e5560",
   "metadata": {},
   "outputs": [],
   "source": [
    "# Predict and evaluate\n",
    "y_pred = svm.predict(X_test_scaled)\n",
    "report = classification_report(y_test, y_pred, target_names=data.target_names)\n",
    "print(report)"
   ]
  }
 ],
 "metadata": {},
 "nbformat": 4,
 "nbformat_minor": 5
}
